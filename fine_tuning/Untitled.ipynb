{
 "cells": [
  {
   "cell_type": "code",
   "execution_count": null,
   "id": "297f3aa6",
   "metadata": {},
   "outputs": [],
   "source": [
    "!pip3 install torch torchvision torchaudio --index-url https://download.pytorch.org/whl/cu118"
   ]
  },
  {
   "cell_type": "code",
   "execution_count": null,
   "id": "56b4c5a7",
   "metadata": {},
   "outputs": [],
   "source": [
    "!pip install transformers datasets evaluate rouge_score accelerate"
   ]
  },
  {
   "cell_type": "code",
   "execution_count": null,
   "id": "baffe01d",
   "metadata": {},
   "outputs": [],
   "source": [
    "!pip install transformers[torch]"
   ]
  },
  {
   "cell_type": "code",
   "execution_count": 1,
   "id": "70ddc401",
   "metadata": {},
   "outputs": [
    {
     "name": "stderr",
     "output_type": "stream",
     "text": [
      "[nltk_data] Downloading package punkt to\n",
      "[nltk_data]     /users/PAS0350/geng161/nltk_data...\n",
      "[nltk_data]   Package punkt is already up-to-date!\n"
     ]
    },
    {
     "data": {
      "text/plain": [
       "True"
      ]
     },
     "execution_count": 1,
     "metadata": {},
     "output_type": "execute_result"
    }
   ],
   "source": [
    "import nltk\n",
    "nltk.download('punkt')"
   ]
  },
  {
   "cell_type": "code",
   "execution_count": 1,
   "id": "d8b21f54",
   "metadata": {},
   "outputs": [
    {
     "name": "stdout",
     "output_type": "stream",
     "text": [
      "Total 162 meetings in the train set.\n",
      "Total 35 meetings in the val set.\n",
      "Total 35 meetings in the test set.\n"
     ]
    }
   ],
   "source": [
    "import json\n",
    "from datasets import Dataset\n",
    "\n",
    "meetings = {}\n",
    "# read the dataset\n",
    "# please enter the path of your data\n",
    "splits = ('train', 'val', 'test')\n",
    "for split in splits:\n",
    "    data_path = '../QMSum/data/ALL/jsonl/' + split + '.jsonl'\n",
    "    data = []\n",
    "    with open(data_path) as f:\n",
    "        for line in f:\n",
    "            data.append(json.loads(line))\n",
    "    n_meetings = len(data)\n",
    "    print('Total {} meetings in the {} set.'.format(n_meetings, split))\n",
    "    meetings[split] = data"
   ]
  },
  {
   "cell_type": "code",
   "execution_count": 2,
   "id": "a047e3f7",
   "metadata": {},
   "outputs": [],
   "source": [
    "from nltk import word_tokenize\n",
    "# tokneize a sent\n",
    "def tokenize(sent):\n",
    "    tokens = ' '.join(word_tokenize(sent.lower()))\n",
    "    return tokens\n",
    "# filter some noises caused by speech recognition\n",
    "def clean_data(text):\n",
    "    text = text.replace('{ vocalsound } ', '')\n",
    "    text = text.replace('{ disfmarker } ', '')\n",
    "    text = text.replace('a_m_i_', 'ami')\n",
    "    text = text.replace('l_c_d_', 'lcd')\n",
    "    text = text.replace('p_m_s', 'pms')\n",
    "    text = text.replace('t_v_', 'tv')\n",
    "    text = text.replace('{ pause } ', '')\n",
    "    text = text.replace('{ nonvocalsound } ', '')\n",
    "    text = text.replace('{ gap } ', '')\n",
    "    return text"
   ]
  },
  {
   "cell_type": "code",
   "execution_count": 3,
   "id": "3695a108",
   "metadata": {},
   "outputs": [],
   "source": [
    "# process data for BART\n",
    "# the input of the model here is the entire content of the meeting\n",
    "\n",
    "bart_data = {}\n",
    "for split in splits:\n",
    "    data = meetings[split]\n",
    "    src_tgt = []\n",
    "    for i in range(len(data)): # For each meeting\n",
    "        # get meeting content\n",
    "        src = []\n",
    "        for k in range(len(data[i]['meeting_transcripts'])): # For each conversation\n",
    "            cur_turn = data[i]['meeting_transcripts'][k]['speaker'].lower() + ': '\n",
    "            cur_turn = cur_turn + tokenize(data[i]['meeting_transcripts'][k]['content'])\n",
    "            src.append(cur_turn)\n",
    "        src = ' '.join(src)\n",
    "        for j in range(len(data[i]['general_query_list'])):\n",
    "            cur = {}\n",
    "            query = tokenize(data[i]['general_query_list'][j]['query'])\n",
    "            cur['src'] = clean_data('<s> ' + query + ' </s> ' + src + ' </s>') # query + all transcripts\n",
    "            target = tokenize(data[i]['general_query_list'][j]['answer'])\n",
    "            cur['tgt'] = target\n",
    "            src_tgt.append(cur)\n",
    "        for j in range(len(data[i]['specific_query_list'])):\n",
    "            cur = {}\n",
    "            query = tokenize(data[i]['specific_query_list'][j]['query'])\n",
    "            cur['src'] = clean_data('<s> ' + query + ' </s> ' + src + ' </s>')\n",
    "            target = tokenize(data[i]['specific_query_list'][j]['answer'])\n",
    "            cur['tgt'] = target\n",
    "            src_tgt.append(cur)\n",
    "    bart_data[split] = src_tgt\n",
    "        \n",
    "# print('Total {} query-summary pairs in the {} set'.format(len(bart_data), split))\n",
    "# print(bart_data[2])\n",
    "# with open('/users/PAS0350/geng161/MeetingSummary/QMSum/data/bart_' + split + '.jsonl', 'w') as f:\n",
    "#     for i in range(len(bart_data)):\n",
    "#         print(json.dumps(bart_data[i]), file=f)"
   ]
  },
  {
   "cell_type": "code",
   "execution_count": 4,
   "id": "24c4cd27",
   "metadata": {},
   "outputs": [
    {
     "name": "stdout",
     "output_type": "stream",
     "text": [
      "Total 3 query-summary pairs in the test set\n"
     ]
    }
   ],
   "source": [
    "# process data for BART\n",
    "# the input of the model here is the gold span corresponding to each query\n",
    "bart_data_gold = {}\n",
    "for split in splits:\n",
    "    data = meetings[split]\n",
    "    src_tgt = []\n",
    "    for i in range(len(data)):\n",
    "        # get meeting content\n",
    "        entire_src = []\n",
    "        for k in range(len(data[i]['meeting_transcripts'])):\n",
    "            cur_turn = data[i]['meeting_transcripts'][k]['speaker'].lower() + ': '\n",
    "            cur_turn = cur_turn + tokenize(data[i]['meeting_transcripts'][k]['content'])\n",
    "            entire_src.append(cur_turn)\n",
    "        entire_src = ' '.join(entire_src)\n",
    "        for j in range(len(data[i]['general_query_list'])):\n",
    "            cur = {}\n",
    "            query = tokenize(data[i]['general_query_list'][j]['query'])\n",
    "            cur['src'] = clean_data('<s> ' + query + ' </s> ' + entire_src + ' </s>')\n",
    "            target = tokenize(data[i]['general_query_list'][j]['answer'])\n",
    "            cur['tgt'] = target\n",
    "            src_tgt.append(cur)\n",
    "        for j in range(len(data[i]['specific_query_list'])):\n",
    "            cur = {}\n",
    "            query = tokenize(data[i]['specific_query_list'][j]['query'])\n",
    "            src = []\n",
    "            # get the content in the gold span for each query\n",
    "            for span in data[i]['specific_query_list'][j]['relevant_text_span']:\n",
    "                assert len(span) == 2\n",
    "                st, ed = int(span[0]), int(span[1])\n",
    "                for k in range(st, ed + 1):\n",
    "                    cur_turn = data[i]['meeting_transcripts'][k]['speaker'].lower() + ': '\n",
    "                    cur_turn = cur_turn + tokenize(data[i]['meeting_transcripts'][k]['content'])\n",
    "                    src.append(cur_turn)\n",
    "            src = ' '.join(src)\n",
    "            cur['src'] = clean_data('<s> ' + query + ' </s> ' + src + ' </s>')\n",
    "            target = tokenize(data[i]['specific_query_list'][j]['answer'])\n",
    "            cur['tgt'] = target\n",
    "            src_tgt.append(cur)\n",
    "    bart_data_gold[split] = src_tgt\n",
    "print('Total {} query-summary pairs in the {} set'.format(len(bart_data_gold), split))"
   ]
  },
  {
   "cell_type": "code",
   "execution_count": 5,
   "id": "0c26658f",
   "metadata": {},
   "outputs": [],
   "source": [
    "from datasets import Dataset\n",
    "\n",
    "train_bart_data_gold = Dataset.from_list(bart_data_gold['train'])\n",
    "test_bart_data_gold = Dataset.from_list(bart_data_gold['test'])"
   ]
  },
  {
   "cell_type": "code",
   "execution_count": 6,
   "id": "d4b1a332",
   "metadata": {},
   "outputs": [],
   "source": [
    "# Preprocess\n",
    "def preprocess_function(examples):\n",
    "    model_inputs = tokenizer(examples['src'], max_length=2048, truncation=True)\n",
    "    labels = tokenizer(text_target=examples['tgt'], max_length=128, truncation=True)\n",
    "    model_inputs[\"labels\"] = labels[\"input_ids\"]\n",
    "    return model_inputs"
   ]
  },
  {
   "cell_type": "code",
   "execution_count": 7,
   "id": "b3b459f6",
   "metadata": {},
   "outputs": [],
   "source": [
    "from transformers import AutoTokenizer\n",
    "\n",
    "checkpoint = \"google-t5/t5-small\"\n",
    "tokenizer = AutoTokenizer.from_pretrained(checkpoint)"
   ]
  },
  {
   "cell_type": "code",
   "execution_count": 8,
   "id": "609f0cbb",
   "metadata": {},
   "outputs": [
    {
     "data": {
      "application/vnd.jupyter.widget-view+json": {
       "model_id": "5268bae1a5504c33bfdc9e4c186458dd",
       "version_major": 2,
       "version_minor": 0
      },
      "text/plain": [
       "Map:   0%|          | 0/1257 [00:00<?, ? examples/s]"
      ]
     },
     "metadata": {},
     "output_type": "display_data"
    },
    {
     "data": {
      "application/vnd.jupyter.widget-view+json": {
       "model_id": "44a62a8b03b442109abdf70c42d2bbfc",
       "version_major": 2,
       "version_minor": 0
      },
      "text/plain": [
       "Map:   0%|          | 0/281 [00:00<?, ? examples/s]"
      ]
     },
     "metadata": {},
     "output_type": "display_data"
    }
   ],
   "source": [
    "train_tokenized_bart_data_gold = train_bart_data_gold.map(preprocess_function, batched=True)\n",
    "test_tokenized_bart_data_gold = test_bart_data_gold.map(preprocess_function, batched=True)"
   ]
  },
  {
   "cell_type": "code",
   "execution_count": 9,
   "id": "372d7914",
   "metadata": {},
   "outputs": [],
   "source": [
    "# Evaluate\n",
    "import evaluate\n",
    "import numpy as np\n",
    "\n",
    "rouge = evaluate.load(\"rouge\")\n",
    "\n",
    "def compute_metrics(eval_pred):\n",
    "    predictions, labels = eval_pred\n",
    "    decoded_preds = tokenizer.batch_decode(predictions, skip_special_tokens=True)\n",
    "    labels = np.where(labels != -100, labels, tokenizer.pad_token_id)\n",
    "    decoded_labels = tokenizer.batch_decode(labels, skip_special_tokens=True)\n",
    "\n",
    "    result = rouge.compute(predictions=decoded_preds, references=decoded_labels, use_stemmer=True)\n",
    "\n",
    "    prediction_lens = [np.count_nonzero(pred != tokenizer.pad_token_id) for pred in predictions]\n",
    "    result[\"gen_len\"] = np.mean(prediction_lens)\n",
    "\n",
    "    return {k: round(v, 4) for k, v in result.items()}"
   ]
  },
  {
   "cell_type": "code",
   "execution_count": 10,
   "id": "4143f2da",
   "metadata": {},
   "outputs": [
    {
     "name": "stderr",
     "output_type": "stream",
     "text": [
      "/users/PAS0350/geng161/.local/lib/python3.9/site-packages/accelerate/accelerator.py:432: FutureWarning: Passing the following arguments to `Accelerator` is deprecated and will be removed in version 1.0 of Accelerate: dict_keys(['dispatch_batches', 'split_batches', 'even_batches', 'use_seedable_sampler']). Please pass an `accelerate.DataLoaderConfiguration` instead: \n",
      "dataloader_config = DataLoaderConfiguration(dispatch_batches=None, split_batches=False, even_batches=True, use_seedable_sampler=True)\n",
      "  warnings.warn(\n",
      "Detected kernel version 3.10.0, which is below the recommended minimum of 5.5.0; this can cause the process to hang. It is recommended to upgrade the kernel to the minimum version or higher.\n"
     ]
    },
    {
     "data": {
      "text/html": [
       "\n",
       "    <div>\n",
       "      \n",
       "      <progress value='1260' max='1260' style='width:300px; height:20px; vertical-align: middle;'></progress>\n",
       "      [1260/1260 06:58, Epoch 4/4]\n",
       "    </div>\n",
       "    <table border=\"1\" class=\"dataframe\">\n",
       "  <thead>\n",
       " <tr style=\"text-align: left;\">\n",
       "      <th>Epoch</th>\n",
       "      <th>Training Loss</th>\n",
       "      <th>Validation Loss</th>\n",
       "      <th>Rouge1</th>\n",
       "      <th>Rouge2</th>\n",
       "      <th>Rougel</th>\n",
       "      <th>Rougelsum</th>\n",
       "      <th>Gen Len</th>\n",
       "    </tr>\n",
       "  </thead>\n",
       "  <tbody>\n",
       "    <tr>\n",
       "      <td>1</td>\n",
       "      <td>No log</td>\n",
       "      <td>2.671890</td>\n",
       "      <td>0.177100</td>\n",
       "      <td>0.055800</td>\n",
       "      <td>0.141600</td>\n",
       "      <td>0.141100</td>\n",
       "      <td>18.985800</td>\n",
       "    </tr>\n",
       "    <tr>\n",
       "      <td>2</td>\n",
       "      <td>2.896100</td>\n",
       "      <td>2.602722</td>\n",
       "      <td>0.193600</td>\n",
       "      <td>0.063800</td>\n",
       "      <td>0.155500</td>\n",
       "      <td>0.155000</td>\n",
       "      <td>18.982200</td>\n",
       "    </tr>\n",
       "    <tr>\n",
       "      <td>3</td>\n",
       "      <td>2.896100</td>\n",
       "      <td>2.579350</td>\n",
       "      <td>0.198200</td>\n",
       "      <td>0.066400</td>\n",
       "      <td>0.159700</td>\n",
       "      <td>0.159500</td>\n",
       "      <td>18.960900</td>\n",
       "    </tr>\n",
       "    <tr>\n",
       "      <td>4</td>\n",
       "      <td>2.709800</td>\n",
       "      <td>2.573130</td>\n",
       "      <td>0.200300</td>\n",
       "      <td>0.066600</td>\n",
       "      <td>0.162200</td>\n",
       "      <td>0.161900</td>\n",
       "      <td>18.985800</td>\n",
       "    </tr>\n",
       "  </tbody>\n",
       "</table><p>"
      ],
      "text/plain": [
       "<IPython.core.display.HTML object>"
      ]
     },
     "metadata": {},
     "output_type": "display_data"
    },
    {
     "name": "stderr",
     "output_type": "stream",
     "text": [
      "/users/PAS0350/geng161/.local/lib/python3.9/site-packages/transformers/generation/utils.py:1132: UserWarning: Using the model-agnostic default `max_length` (=20) to control the generation length. We recommend setting `max_new_tokens` to control the maximum length of the generation.\n",
      "  warnings.warn(\n",
      "/users/PAS0350/geng161/.local/lib/python3.9/site-packages/transformers/generation/utils.py:1132: UserWarning: Using the model-agnostic default `max_length` (=20) to control the generation length. We recommend setting `max_new_tokens` to control the maximum length of the generation.\n",
      "  warnings.warn(\n",
      "/users/PAS0350/geng161/.local/lib/python3.9/site-packages/transformers/generation/utils.py:1132: UserWarning: Using the model-agnostic default `max_length` (=20) to control the generation length. We recommend setting `max_new_tokens` to control the maximum length of the generation.\n",
      "  warnings.warn(\n"
     ]
    },
    {
     "data": {
      "text/plain": [
       "TrainOutput(global_step=1260, training_loss=2.775908648778522, metrics={'train_runtime': 423.2711, 'train_samples_per_second': 11.879, 'train_steps_per_second': 2.977, 'total_flos': 2492577269415936.0, 'train_loss': 2.775908648778522, 'epoch': 4.0})"
      ]
     },
     "execution_count": 10,
     "metadata": {},
     "output_type": "execute_result"
    }
   ],
   "source": [
    "# Train\n",
    "from transformers import AutoModelForSeq2SeqLM, Seq2SeqTrainingArguments, Seq2SeqTrainer\n",
    "from transformers import DataCollatorForSeq2Seq\n",
    "\n",
    "data_collator = DataCollatorForSeq2Seq(tokenizer=tokenizer, model=checkpoint)\n",
    "model = AutoModelForSeq2SeqLM.from_pretrained(checkpoint)\n",
    "\n",
    "training_args = Seq2SeqTrainingArguments(\n",
    "    output_dir=\"qmsum_model\",\n",
    "    evaluation_strategy=\"epoch\",\n",
    "    learning_rate=2e-5,\n",
    "    per_device_train_batch_size=4,\n",
    "    per_device_eval_batch_size=4,\n",
    "    weight_decay=0.01,\n",
    "    save_total_limit=3,\n",
    "    num_train_epochs=4,\n",
    "    predict_with_generate=True,\n",
    "    fp16=True,\n",
    "    push_to_hub=False,\n",
    ")\n",
    "\n",
    "trainer = Seq2SeqTrainer(\n",
    "    model=model,\n",
    "    args=training_args,\n",
    "    train_dataset=train_tokenized_bart_data_gold,\n",
    "    eval_dataset=test_tokenized_bart_data_gold,\n",
    "    tokenizer=tokenizer,\n",
    "    data_collator=data_collator,\n",
    "    compute_metrics=compute_metrics,\n",
    ")\n",
    "\n",
    "trainer.train()"
   ]
  },
  {
   "cell_type": "code",
   "execution_count": 16,
   "id": "71e835ff",
   "metadata": {},
   "outputs": [],
   "source": [
    "trainer.save_model(\"./t5-meeting\") "
   ]
  },
  {
   "cell_type": "code",
   "execution_count": 17,
   "id": "a3a3604f",
   "metadata": {},
   "outputs": [
    {
     "name": "stderr",
     "output_type": "stream",
     "text": [
      "Token indices sequence length is longer than the specified maximum sequence length for this model (16612 > 512). Running this sequence through the model will result in indexing errors\n"
     ]
    },
    {
     "data": {
      "text/plain": [
       "[{'summary_text': 'barry hughes said that if a child was convicted of assault , he would be able to get into the public interest . he said that the cps would not be responsible for imposing a reasonable punishment . but he also said that it would be more likely to be referred to the police and the crime commissioner . it would also be possible that the police would be involved in implementing the law .'}]"
      ]
     },
     "execution_count": 17,
     "metadata": {},
     "output_type": "execute_result"
    }
   ],
   "source": [
    "from transformers import pipeline\n",
    "\n",
    "summarizer = pipeline(\"summarization\", model=\"./t5-meeting\")\n",
    "summarizer(\"summarize: \" + test_bart_data_gold[0]['src'])"
   ]
  },
  {
   "cell_type": "code",
   "execution_count": null,
   "id": "79e90877",
   "metadata": {},
   "outputs": [],
   "source": []
  }
 ],
 "metadata": {
  "kernelspec": {
   "display_name": "Python 3.9 (Conda 2022.05) [python/3.9-2022.05]",
   "language": "python",
   "name": "python39_202205"
  },
  "language_info": {
   "codemirror_mode": {
    "name": "ipython",
    "version": 3
   },
   "file_extension": ".py",
   "mimetype": "text/x-python",
   "name": "python",
   "nbconvert_exporter": "python",
   "pygments_lexer": "ipython3",
   "version": "3.9.12"
  }
 },
 "nbformat": 4,
 "nbformat_minor": 5
}
