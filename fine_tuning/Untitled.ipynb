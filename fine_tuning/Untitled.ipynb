{
 "cells": [
  {
   "cell_type": "code",
   "execution_count": null,
   "id": "297f3aa6",
   "metadata": {},
   "outputs": [],
   "source": [
    "!pip3 install torch torchvision torchaudio --index-url https://download.pytorch.org/whl/cu118"
   ]
  },
  {
   "cell_type": "code",
   "execution_count": null,
   "id": "56b4c5a7",
   "metadata": {},
   "outputs": [],
   "source": [
    "!pip install transformers datasets evaluate rouge_score accelerate"
   ]
  },
  {
   "cell_type": "code",
   "execution_count": null,
   "id": "baffe01d",
   "metadata": {},
   "outputs": [],
   "source": [
    "!pip install transformers[torch]"
   ]
  },
  {
   "cell_type": "code",
   "execution_count": 1,
   "id": "70ddc401",
   "metadata": {},
   "outputs": [
    {
     "name": "stderr",
     "output_type": "stream",
     "text": [
      "[nltk_data] Downloading package punkt to\n",
      "[nltk_data]     /users/PAS0350/geng161/nltk_data...\n",
      "[nltk_data]   Package punkt is already up-to-date!\n"
     ]
    },
    {
     "data": {
      "text/plain": [
       "True"
      ]
     },
     "execution_count": 1,
     "metadata": {},
     "output_type": "execute_result"
    }
   ],
   "source": [
    "import nltk\n",
    "nltk.download('punkt')"
   ]
  },
  {
   "cell_type": "code",
   "execution_count": 2,
   "id": "d8b21f54",
   "metadata": {},
   "outputs": [
    {
     "name": "stdout",
     "output_type": "stream",
     "text": [
      "Total 162 meetings in the train set.\n",
      "Total 35 meetings in the val set.\n",
      "Total 35 meetings in the test set.\n"
     ]
    }
   ],
   "source": [
    "import json\n",
    "from datasets import Dataset\n",
    "\n",
    "meetings = {}\n",
    "# read the dataset\n",
    "# please enter the path of your data\n",
    "splits = ('train', 'val', 'test')\n",
    "for split in splits:\n",
    "    data_path = '/users/PAS0350/geng161/MeetingSummary/QMSum/data/ALL/jsonl/' + split + '.jsonl'\n",
    "    data = []\n",
    "    with open(data_path) as f:\n",
    "        for line in f:\n",
    "            data.append(json.loads(line))\n",
    "    n_meetings = len(data)\n",
    "    print('Total {} meetings in the {} set.'.format(n_meetings, split))\n",
    "    meetings[split] = data"
   ]
  },
  {
   "cell_type": "code",
   "execution_count": 3,
   "id": "a047e3f7",
   "metadata": {},
   "outputs": [],
   "source": [
    "from nltk import word_tokenize\n",
    "# tokneize a sent\n",
    "def tokenize(sent):\n",
    "    tokens = ' '.join(word_tokenize(sent.lower()))\n",
    "    return tokens\n",
    "# filter some noises caused by speech recognition\n",
    "def clean_data(text):\n",
    "    text = text.replace('{ vocalsound } ', '')\n",
    "    text = text.replace('{ disfmarker } ', '')\n",
    "    text = text.replace('a_m_i_', 'ami')\n",
    "    text = text.replace('l_c_d_', 'lcd')\n",
    "    text = text.replace('p_m_s', 'pms')\n",
    "    text = text.replace('t_v_', 'tv')\n",
    "    text = text.replace('{ pause } ', '')\n",
    "    text = text.replace('{ nonvocalsound } ', '')\n",
    "    text = text.replace('{ gap } ', '')\n",
    "    return text"
   ]
  },
  {
   "cell_type": "code",
   "execution_count": 4,
   "id": "3695a108",
   "metadata": {},
   "outputs": [],
   "source": [
    "# process data for BART\n",
    "# the input of the model here is the entire content of the meeting\n",
    "\n",
    "bart_data = {}\n",
    "for split in splits:\n",
    "    data = meetings[split]\n",
    "    src_tgt = []\n",
    "    for i in range(len(data)): # For each meeting\n",
    "        # get meeting content\n",
    "        src = []\n",
    "        for k in range(len(data[i]['meeting_transcripts'])): # For each conversation\n",
    "            cur_turn = data[i]['meeting_transcripts'][k]['speaker'].lower() + ': '\n",
    "            cur_turn = cur_turn + tokenize(data[i]['meeting_transcripts'][k]['content'])\n",
    "            src.append(cur_turn)\n",
    "        src = ' '.join(src)\n",
    "        for j in range(len(data[i]['general_query_list'])):\n",
    "            cur = {}\n",
    "            query = tokenize(data[i]['general_query_list'][j]['query'])\n",
    "            cur['src'] = clean_data('<s> ' + query + ' </s> ' + src + ' </s>') # query + all transcripts\n",
    "            target = tokenize(data[i]['general_query_list'][j]['answer'])\n",
    "            cur['tgt'] = target\n",
    "            src_tgt.append(cur)\n",
    "        for j in range(len(data[i]['specific_query_list'])):\n",
    "            cur = {}\n",
    "            query = tokenize(data[i]['specific_query_list'][j]['query'])\n",
    "            cur['src'] = clean_data('<s> ' + query + ' </s> ' + src + ' </s>')\n",
    "            target = tokenize(data[i]['specific_query_list'][j]['answer'])\n",
    "            cur['tgt'] = target\n",
    "            src_tgt.append(cur)\n",
    "    bart_data[split] = src_tgt\n",
    "        \n",
    "# print('Total {} query-summary pairs in the {} set'.format(len(bart_data), split))\n",
    "# print(bart_data[2])\n",
    "# with open('/users/PAS0350/geng161/MeetingSummary/QMSum/data/bart_' + split + '.jsonl', 'w') as f:\n",
    "#     for i in range(len(bart_data)):\n",
    "#         print(json.dumps(bart_data[i]), file=f)"
   ]
  },
  {
   "cell_type": "code",
   "execution_count": 5,
   "id": "24c4cd27",
   "metadata": {},
   "outputs": [
    {
     "name": "stdout",
     "output_type": "stream",
     "text": [
      "Total 3 query-summary pairs in the test set\n"
     ]
    }
   ],
   "source": [
    "# process data for BART\n",
    "# the input of the model here is the gold span corresponding to each query\n",
    "bart_data_gold = {}\n",
    "for split in splits:\n",
    "    data = meetings[split]\n",
    "    src_tgt = []\n",
    "    for i in range(len(data)):\n",
    "        # get meeting content\n",
    "        entire_src = []\n",
    "        for k in range(len(data[i]['meeting_transcripts'])):\n",
    "            cur_turn = data[i]['meeting_transcripts'][k]['speaker'].lower() + ': '\n",
    "            cur_turn = cur_turn + tokenize(data[i]['meeting_transcripts'][k]['content'])\n",
    "            entire_src.append(cur_turn)\n",
    "        entire_src = ' '.join(entire_src)\n",
    "        for j in range(len(data[i]['general_query_list'])):\n",
    "            cur = {}\n",
    "            query = tokenize(data[i]['general_query_list'][j]['query'])\n",
    "            cur['src'] = clean_data('<s> ' + query + ' </s> ' + entire_src + ' </s>')\n",
    "            target = tokenize(data[i]['general_query_list'][j]['answer'])\n",
    "            cur['tgt'] = target\n",
    "            src_tgt.append(cur)\n",
    "        for j in range(len(data[i]['specific_query_list'])):\n",
    "            cur = {}\n",
    "            query = tokenize(data[i]['specific_query_list'][j]['query'])\n",
    "            src = []\n",
    "            # get the content in the gold span for each query\n",
    "            for span in data[i]['specific_query_list'][j]['relevant_text_span']:\n",
    "                assert len(span) == 2\n",
    "                st, ed = int(span[0]), int(span[1])\n",
    "                for k in range(st, ed + 1):\n",
    "                    cur_turn = data[i]['meeting_transcripts'][k]['speaker'].lower() + ': '\n",
    "                    cur_turn = cur_turn + tokenize(data[i]['meeting_transcripts'][k]['content'])\n",
    "                    src.append(cur_turn)\n",
    "            src = ' '.join(src)\n",
    "            cur['src'] = clean_data('<s> ' + query + ' </s> ' + src + ' </s>')\n",
    "            target = tokenize(data[i]['specific_query_list'][j]['answer'])\n",
    "            cur['tgt'] = target\n",
    "            src_tgt.append(cur)\n",
    "    bart_data_gold[split] = src_tgt\n",
    "print('Total {} query-summary pairs in the {} set'.format(len(bart_data_gold), split))"
   ]
  },
  {
   "cell_type": "code",
   "execution_count": 6,
   "id": "0c26658f",
   "metadata": {},
   "outputs": [],
   "source": [
    "from datasets import Dataset\n",
    "\n",
    "train_bart_data_gold = Dataset.from_list(bart_data_gold['train'])\n",
    "test_bart_data_gold = Dataset.from_list(bart_data_gold['test'])"
   ]
  },
  {
   "cell_type": "code",
   "execution_count": 7,
   "id": "d4b1a332",
   "metadata": {},
   "outputs": [],
   "source": [
    "# Preprocess\n",
    "def preprocess_function(examples):\n",
    "    model_inputs = tokenizer(examples['src'], max_length=2048, truncation=True)\n",
    "    labels = tokenizer(text_target=examples['tgt'], max_length=128, truncation=True)\n",
    "    model_inputs[\"labels\"] = labels[\"input_ids\"]\n",
    "    return model_inputs"
   ]
  },
  {
   "cell_type": "code",
   "execution_count": 8,
   "id": "b3b459f6",
   "metadata": {},
   "outputs": [],
   "source": [
    "from transformers import AutoTokenizer\n",
    "\n",
    "checkpoint = \"google-t5/t5-small\"\n",
    "tokenizer = AutoTokenizer.from_pretrained(checkpoint)"
   ]
  },
  {
   "cell_type": "code",
   "execution_count": 9,
   "id": "609f0cbb",
   "metadata": {},
   "outputs": [
    {
     "data": {
      "application/vnd.jupyter.widget-view+json": {
       "model_id": "3097a9f9da41444b95378d6e01c9d6aa",
       "version_major": 2,
       "version_minor": 0
      },
      "text/plain": [
       "Map:   0%|          | 0/1257 [00:00<?, ? examples/s]"
      ]
     },
     "metadata": {},
     "output_type": "display_data"
    },
    {
     "data": {
      "application/vnd.jupyter.widget-view+json": {
       "model_id": "5880de293dc347e3b1b6cfda51c0726f",
       "version_major": 2,
       "version_minor": 0
      },
      "text/plain": [
       "Map:   0%|          | 0/281 [00:00<?, ? examples/s]"
      ]
     },
     "metadata": {},
     "output_type": "display_data"
    }
   ],
   "source": [
    "train_tokenized_bart_data_gold = train_bart_data_gold.map(preprocess_function, batched=True)\n",
    "test_tokenized_bart_data_gold = test_bart_data_gold.map(preprocess_function, batched=True)"
   ]
  },
  {
   "cell_type": "code",
   "execution_count": 10,
   "id": "372d7914",
   "metadata": {},
   "outputs": [],
   "source": [
    "# Evaluate\n",
    "import evaluate\n",
    "import numpy as np\n",
    "\n",
    "rouge = evaluate.load(\"rouge\")\n",
    "\n",
    "def compute_metrics(eval_pred):\n",
    "    predictions, labels = eval_pred\n",
    "    decoded_preds = tokenizer.batch_decode(predictions, skip_special_tokens=True)\n",
    "    labels = np.where(labels != -100, labels, tokenizer.pad_token_id)\n",
    "    decoded_labels = tokenizer.batch_decode(labels, skip_special_tokens=True)\n",
    "\n",
    "    result = rouge.compute(predictions=decoded_preds, references=decoded_labels, use_stemmer=True)\n",
    "\n",
    "    prediction_lens = [np.count_nonzero(pred != tokenizer.pad_token_id) for pred in predictions]\n",
    "    result[\"gen_len\"] = np.mean(prediction_lens)\n",
    "\n",
    "    return {k: round(v, 4) for k, v in result.items()}"
   ]
  },
  {
   "cell_type": "code",
   "execution_count": 11,
   "id": "4143f2da",
   "metadata": {},
   "outputs": [
    {
     "name": "stderr",
     "output_type": "stream",
     "text": [
      "/users/PAS0350/geng161/.local/lib/python3.9/site-packages/accelerate/accelerator.py:432: FutureWarning: Passing the following arguments to `Accelerator` is deprecated and will be removed in version 1.0 of Accelerate: dict_keys(['dispatch_batches', 'split_batches', 'even_batches', 'use_seedable_sampler']). Please pass an `accelerate.DataLoaderConfiguration` instead: \n",
      "dataloader_config = DataLoaderConfiguration(dispatch_batches=None, split_batches=False, even_batches=True, use_seedable_sampler=True)\n",
      "  warnings.warn(\n",
      "Detected kernel version 3.10.0, which is below the recommended minimum of 5.5.0; this can cause the process to hang. It is recommended to upgrade the kernel to the minimum version or higher.\n"
     ]
    },
    {
     "data": {
      "text/html": [
       "\n",
       "    <div>\n",
       "      \n",
       "      <progress value='1260' max='1260' style='width:300px; height:20px; vertical-align: middle;'></progress>\n",
       "      [1260/1260 07:00, Epoch 4/4]\n",
       "    </div>\n",
       "    <table border=\"1\" class=\"dataframe\">\n",
       "  <thead>\n",
       " <tr style=\"text-align: left;\">\n",
       "      <th>Epoch</th>\n",
       "      <th>Training Loss</th>\n",
       "      <th>Validation Loss</th>\n",
       "      <th>Rouge1</th>\n",
       "      <th>Rouge2</th>\n",
       "      <th>Rougel</th>\n",
       "      <th>Rougelsum</th>\n",
       "      <th>Gen Len</th>\n",
       "    </tr>\n",
       "  </thead>\n",
       "  <tbody>\n",
       "    <tr>\n",
       "      <td>1</td>\n",
       "      <td>No log</td>\n",
       "      <td>2.671890</td>\n",
       "      <td>0.177100</td>\n",
       "      <td>0.055700</td>\n",
       "      <td>0.141400</td>\n",
       "      <td>0.141300</td>\n",
       "      <td>18.985800</td>\n",
       "    </tr>\n",
       "    <tr>\n",
       "      <td>2</td>\n",
       "      <td>2.896100</td>\n",
       "      <td>2.602722</td>\n",
       "      <td>0.193700</td>\n",
       "      <td>0.063600</td>\n",
       "      <td>0.155400</td>\n",
       "      <td>0.155200</td>\n",
       "      <td>18.982200</td>\n",
       "    </tr>\n",
       "    <tr>\n",
       "      <td>3</td>\n",
       "      <td>2.896100</td>\n",
       "      <td>2.579350</td>\n",
       "      <td>0.198500</td>\n",
       "      <td>0.066100</td>\n",
       "      <td>0.159800</td>\n",
       "      <td>0.159700</td>\n",
       "      <td>18.960900</td>\n",
       "    </tr>\n",
       "    <tr>\n",
       "      <td>4</td>\n",
       "      <td>2.709800</td>\n",
       "      <td>2.573130</td>\n",
       "      <td>0.200500</td>\n",
       "      <td>0.066100</td>\n",
       "      <td>0.162300</td>\n",
       "      <td>0.162100</td>\n",
       "      <td>18.985800</td>\n",
       "    </tr>\n",
       "  </tbody>\n",
       "</table><p>"
      ],
      "text/plain": [
       "<IPython.core.display.HTML object>"
      ]
     },
     "metadata": {},
     "output_type": "display_data"
    },
    {
     "name": "stderr",
     "output_type": "stream",
     "text": [
      "/users/PAS0350/geng161/.local/lib/python3.9/site-packages/transformers/generation/utils.py:1132: UserWarning: Using the model-agnostic default `max_length` (=20) to control the generation length. We recommend setting `max_new_tokens` to control the maximum length of the generation.\n",
      "  warnings.warn(\n",
      "/users/PAS0350/geng161/.local/lib/python3.9/site-packages/transformers/generation/utils.py:1132: UserWarning: Using the model-agnostic default `max_length` (=20) to control the generation length. We recommend setting `max_new_tokens` to control the maximum length of the generation.\n",
      "  warnings.warn(\n",
      "/users/PAS0350/geng161/.local/lib/python3.9/site-packages/transformers/generation/utils.py:1132: UserWarning: Using the model-agnostic default `max_length` (=20) to control the generation length. We recommend setting `max_new_tokens` to control the maximum length of the generation.\n",
      "  warnings.warn(\n"
     ]
    },
    {
     "data": {
      "text/plain": [
       "TrainOutput(global_step=1260, training_loss=2.775908648778522, metrics={'train_runtime': 421.2249, 'train_samples_per_second': 11.937, 'train_steps_per_second': 2.991, 'total_flos': 2492577269415936.0, 'train_loss': 2.775908648778522, 'epoch': 4.0})"
      ]
     },
     "execution_count": 11,
     "metadata": {},
     "output_type": "execute_result"
    }
   ],
   "source": [
    "# Train\n",
    "from transformers import AutoModelForSeq2SeqLM, Seq2SeqTrainingArguments, Seq2SeqTrainer\n",
    "from transformers import DataCollatorForSeq2Seq\n",
    "\n",
    "data_collator = DataCollatorForSeq2Seq(tokenizer=tokenizer, model=checkpoint)\n",
    "model = AutoModelForSeq2SeqLM.from_pretrained(checkpoint)\n",
    "\n",
    "training_args = Seq2SeqTrainingArguments(\n",
    "    output_dir=\"my_awesome_billsum_model\",\n",
    "    evaluation_strategy=\"epoch\",\n",
    "    learning_rate=2e-5,\n",
    "    per_device_train_batch_size=4,\n",
    "    per_device_eval_batch_size=4,\n",
    "    weight_decay=0.01,\n",
    "    save_total_limit=3,\n",
    "    num_train_epochs=4,\n",
    "    predict_with_generate=True,\n",
    "    fp16=True,\n",
    "    push_to_hub=False,\n",
    ")\n",
    "\n",
    "trainer = Seq2SeqTrainer(\n",
    "    model=model,\n",
    "    args=training_args,\n",
    "    train_dataset=train_tokenized_bart_data_gold,\n",
    "    eval_dataset=test_tokenized_bart_data_gold,\n",
    "    tokenizer=tokenizer,\n",
    "    data_collator=data_collator,\n",
    "    compute_metrics=compute_metrics,\n",
    ")\n",
    "\n",
    "trainer.train()"
   ]
  },
  {
   "cell_type": "code",
   "execution_count": 16,
   "id": "a3a3604f",
   "metadata": {},
   "outputs": [
    {
     "name": "stderr",
     "output_type": "stream",
     "text": [
      "Token indices sequence length is longer than the specified maximum sequence length for this model (16612 > 512). Running this sequence through the model will result in indexing errors\n"
     ]
    },
    {
     "data": {
      "text/plain": [
       "[{'summary_text': \"barry hughes: 'i think that if a child is convicted, i would be able to do a lot of things, and that i think . that . is a . smacking , and . it 's a good thing . to be convicted of . assault on the child . and i'm a foolish man . who . have been involved in . this .\"}]"
      ]
     },
     "execution_count": 16,
     "metadata": {},
     "output_type": "execute_result"
    }
   ],
   "source": [
    "from transformers import pipeline\n",
    "\n",
    "summarizer = pipeline(\"summarization\", model=\"stevhliu/my_awesome_billsum_model\")\n",
    "summarizer(\"summarize: \" + test_bart_data_gold[0]['src'])"
   ]
  },
  {
   "cell_type": "code",
   "execution_count": 14,
   "id": "a4334103",
   "metadata": {},
   "outputs": [
    {
     "data": {
      "text/plain": [
       "{'src': \"<s> summarize the whole meeting . </s> lynne neagle am: good afternoon , everyone . welcome to the children , young people and education committee . we 've received apologies for absence from hefin david and jack sargeant . vikki howells is substituting for jack sargeant . so , vikki , welcome ; it 's good to see you in the committee . item 2 this afternoon is our eleventh evidence session on the children ( abolition of defence of reasonable punishment ) ( wales ) bill . i 'm very pleased to welcome barry hughes , who is chief crown prosecutor for wales ; kwame biney , who is senior policy advisor , cps ; and iwan jenkins , who is head of the complex casework unit , crown prosecution service cymru wales . so thank you all for attending this afternoon . we 're really looking forward to hearing your views on the bill . if you 're happy , we 'll go straight into questions from members , and the first ones are from siân gwenllian . barry hughes: perfectly happy . sian gwenllian am: thank you very much . i would like to start just by looking in general at how the law currently stands , and how do you think the law as it currently stands today , and specifically in terms of reasonable punishment—how does that protect children . barry hughes: sorry , can i just be clear ? how does the law as it presently stands protect children ? sian gwenllian am: yes . barry hughes: we have a range of offences created by the criminal law , going back to the offences against the person act 1861 in the middle of the century before last , which provide for offences of assault against a variety of people , including , in particular , acts such as the children and young persons act 1933 , which provides for offences that are specific to children . but the more general criminal legislation , such as the offences against the person act , does provide specifically for adults and children alike not to be subject to physical assault . in respect of children in particular , you 'll be aware that we have section 58 of the children act 2004 , which does make it a defence for a person accused of assaulting a child to argue that it was a case where they were acting only so as to impose reasonable punishment upon the child . that is a defence that is available for assault upon a child . by way of contrast , it is not available for an offence involving an adult . in that regard , it could be argued that children have fewer rights than adults . sian gwenllian am: well , a review was undertaken by the government back in 2007 that stated that retaining the law in its current form—that that would be the best thing to do because there 's no evidence that it 's not working satisfactorily . you are suggesting perhaps towards the end of your answer that there could be some change that 's happened since 2007 . barry hughes: i think the law should reflect contemporary society and the law is evolutionary in nature , and should be evolutionary in nature . and just as if we go back 50 years there are types of behaviour that we might all have contemplated back then as being socially acceptable , many of those types of behaviour are not now , and the law has changed to reflect that . we do n't need to go back a very long way to find , for example , that there was no such offence as raping one 's married wife , and the law has changed to reflect the fact that that is simply not acceptable . and from what i 've seen of the research , and i think back to the 2007 review , to which you 've just referred , there is evidence within that review already that opinions are changing . and i 've seen research more current than that that suggests that young people find it less acceptable to use reasonable punishment in chastising a child than do people of an older generation . of course , as we move forward in time , the people who are young now are going to be the older adults of the future . so one would hope that the law will change to reflect the way in which people behave within society . sian gwenllian am: okay , thank you . we have heard evidence as a committee that this proposed law would provide a much clearer legal framework—that is , to take out this reasonable punishment defence , that then would make things much clearer for parents and professionals . does the cps have a view on that ? barry hughes: i think it will make things clearer . i 'm not sure it will make them much clearer , because if we get into some of the— . it may be helpful to look at some examples at some stage . and when it comes to prosecuting , it 's often the case that things are n't just black and white ; there are multiple shades of grey in between . we know that the children act did introduce a degree of clarity , in that it removed the defence of reasonable chastisement for offences of causing actual bodily harm , causing grievous bodily harm , causing grievous bodily harm with intent , and various incidents of child cruelty under the children and young persons act . in that sense , matters were clarified , because up until that point it was not entirely clear . there were a series of court of appeal cases that sought to clarify the law , but that was at a time , at the end of the 1990s , the start of the 2000s , when we had the european convention on human rights and we had a quickly developing body of case law . and the children act was brought in to reflect the direction that the case law was moving in . a decision was clearly made back then in the early 2000s not to include common assault in the same category as actual bodily harm , grievous bodily harm et cetera . so , there was a decision made back then that it was appropriate to do that . as we wind forward some 15 years , i have seen the research that suggests that some people see that the present legislation , and the way in which section 58 applies to reasonable chastisement for common assault of children—some people have interpreted that as saying that smacking is acceptable . i do n't think that it is what it says , but there is a degree of confusion around that . and the reason why i say it 's not as simple as that is , going back to my words a couple of minutes ago , it 's rarely a case of being black and white ; there are these degrees of grey . and removing that defence does make life clearer . sian gwenllian am: what are the areas of grey that you refer to ? can you give a few examples ? barry hughes: if you take an example—so , one of the examples that i 've heard discussed has been a child—a young child ; let 's say a five-year-old child by the side of a road—who darts to go out in the path of moving traffic . the parent grabs hold of the child and pulls them back . now , technically , taking hold of the child at that point is an assault , because it 's an unwanted imposition of physical force . but no-one 's going to say that 's anything like an assault that should come to the criminal courts . of course , that would be utter nonsense . there 's no hostility ; it 's simply taking hold of a child to protect them . at that point , the parent then seeks to admonish the child , tells them off and smacks the child on the legs . now , that would probably be seen under the present law as reasonable chastisement . probably . but so much depends upon the circumstances , whether this is something that happens frequently with the child , the size of the child , the parent , the force of the slap , the way in which it 's imposed . so , that , i would say , sits at one end of the spectrum . as we move towards the other end of the spectrum , we might have repeated smacking , shouting , maybe hitting the child over the head as well . so , there is a spectrum of offending . towards one end of the spectrum we move much closer towards something that would be criminal in nature . there 'll be a point at which it crosses the threshold from something that needs to be reported to the police , and the police would take some form of action , and then , as we move through the tiers , it 'll reach a stage where the police think this is a case that should be prosecuted and they would bring it to the crown prosecution service for a charging decision . we would then decide the most appropriate means of dealing with it . and the absolute other end of the spectrum here is one where we decide it 's an offence that we think is so serious that it should be charged and brought before a criminal court . that would be very much towards the serious end of the spectrum of the type of behaviour that i 've just described to you . does that help to illustrate that , at one end , it 's relatively white and the other end it 's relatively black , but in the middle we have the shades of grey ? sian gwenllian am: but that would mean that there could be more prosecutions at the softer end . because if you 're removing this—we 'll probably come on to that . barry hughes: shall i address that in terms— ? okay . so , you are probably aware , but forgive me if i just explain quickly anyway , when we approach a file of material evidence submitted by the police we apply the code for crown prosecutors , which has a two-stage test . the first stage is whether there 's sufficient evidence to provide a realistic prospect of conviction , and the second stage is— . and you only get to the second stage if the first stage is satisfied . if there is n't enough evidence , we do n't go on to consider whether it 's in the public interest , because we would n't put an offence before the courts if we did n't think there was a realistic prospect of conviction . so , we only get on to the public interest stage once the evidential stage is satisfied . so , to return to the point , if we have an offence where , let 's say , there is a light smack at the time , the police apply the same code before they bring a case to us . we do n't always agree with the police ; generally we do , but we do n't always agree . it 's a matter for them whether they refer a matter to the crown prosecution service . so , if a police officer takes witness statements in relation to that case—the light smacking on the leg—at present it 's unlikely that would come to the cps , because they would look at it and say , 'reasonable chastisement provides for a defence . ' if that defence is removed , then obviously there is a greater possibility that it would be referred to the cps . i would like to think—and i think this is what will probably happen in practice—that the police would take a view that the evidential test may have been satisfied because the defence had been removed , but it would n't be in the public interest to prosecute . it may be that the police decide that it is—it may have been two smacks , three smacks , so it moves towards the end of the spectrum that would suggest that matters are becoming rather more serious . so , it may be referred to the cps for a charging decision . we would then apply independently the same test , and we would probably conclude that the evidential stage was met in that instance because the defence no longer exists , which takes us on to considering the public interest . in the circumstances that i 've described , every case is going to be unique on its own facts , but in the circumstances that i 've described , if it is just a light smack and it 's a one-off and there 's no history of this , it would probably be the sort of offence we 'd decide it would n't be in the public interest to prosecute . sian gwenllian am: but is n't it creating a new grey area in terms of the police now having to decide whether repeated smacking is in the public interest to at least refer it to you to decide about that ? do you know what i 'm saying ? barry hughes: if this bill goes through , then it will remove a defence , which will make it likely that the police will give this more consideration for referral to the cps than beforehand , but it does n't necessarily mean they will refer it , because it will depend on the facts of each individual case . sian gwenllian am: thanks . lynne neagle am: we 've got some questions now on the divergence between the law in england and wales from dawn bowden . dawn bowden am: thank you , chair . hello . the assembly does n't have any legislative competence to impose duties on the cps , as you know , in the absence of the secretary of state 's consent . what are the implications for implementing the bill in wales for that ? barry hughes: can i give you two examples ? one of the implications is this—and it 's fairly obvious but it 's still worth stressing—that the removal of the defence would mean that there would be more cases that would pass the evidential stage in wales than there would be in england , because the defence would still apply there . that , therefore , raises issues in particular in terms of awareness of criminal offending for people from england who travel to wales , because it 's fairly evident that there would be a defence available in england that is not available in wales . one of the examples that we talked about was if you consider a family on its way from england into wales , travelling to barry island for a holiday , and troublesome children in the back of the car , harsh words and a small smack on the leg delivered while they 're on the m4 going past bristol would be subject to a defence . by the time we come over to this side of the water , there would be no such defence for the same journey , for the same act . and so , there are issues there in terms of the awareness of members of the public . the second example that i 'll give you is that we already have within the united kingdom a certain degree of divergence of laws , and the example i 'll give to you is this : drink driving . in england and wales , the limit for having micrograms of alcohol in your breath is 35 µg in 100 ml of breath . across the border in scotland , it drops to 22 µg . so , the same act— . as you drive into scotland , you 're probably okay to drive if you 've got 34 µg ; by the time you get into scotland , you wo n't be . and the consequences for you are significant , because of course it 's an offence in scotland , and not an offence in england , but the punishment , namely disqualification , applies everywhere in the united kingdom . so , we already have a degree of divergence of law , and the cps recognises this . in our code , we have a specific provision that takes account of the potential divergence of welsh law . we will issue policy guidance and charging standards to reflect any changes as they arise . and we think that we are sufficiently flexible to take account of that . dawn bowden am: okay . so , would you see the necessity for a memorandum of understanding , for instance , or it being useful in these circumstances , or are you quite satisfied that the current guidance code would cover that ? barry hughes: well , it 's yet to move from a bill into an act , so we 'd need to make sure that happened . we know there would be a period of time , perhaps as much as two years , or maybe a little more , while that takes place . there will be a further series of awareness raising . we have strategic implementation groups—iwan sits on that group . so , we would build ourselves up to come up with the appropriate guidance according to the circumstances . in terms of how we 'd approach it within the crown prosecution service in cymru-wales , my approach would be along the lines of working with kwame and his colleagues to make sure that the guidance that we issue nationally suits both england and wales . and when it comes to the practical application of the legislation in wales , we would almost certainly work on the basis that the number of offences—and we might want to get into the number of potential offences , but my take on it is the number of offences is likely to be very small and we would probably have two or three specialists trained in this so that any case that comes through goes to people who 've got a close network and can talk with each other— dawn bowden am: and that would be primarily around the public interest issue . barry hughes: it would . dawn bowden am: i understand . okay . so you 're obviously a key stakeholder in terms of this legislation and you 're clearly very au fait with it and all its implications . what 's actually been your involvement with the government as they 've been developing this legislation ? barry hughes: my own personal involvement ? dawn bowden am: or the service 's . barry hughes: iwan and colleagues have had some involvement on a more routine basis . i met with a minister and a deputy minister—i met with huw irranca-davies a little while ago , and i met with julie morgan a few months ago—to discuss the overall implications , and then officials on both sides have been engaging with each other . it has n't been a very close-knit involvement , but we have had enough involvement so that we 've felt we 've been able to offer views on how we would deal with the legislation . dawn bowden am: okay . so you 've been satisfied with the level of involvement that you 've had . barry hughes: yes . i do n't feel that it 's been too much , nor do i feel we 've been left on the side at all . dawn bowden am: okay . now , we 've just talked about the divergence of criminal law , and this is probably the first time that there 's been an obvious divergence between english and welsh law , and so we were then talking about the guidance , were n't we , and whether that needs amending to reflect it . but i think you were saying that you felt , within the existing guidance , it could be dealt with , so you do n't see a need to update or amend the guidance . barry hughes: i think we would need to update the guidance , and it goes back to the application of the evidential stage , before the public interest stage . on the evidential stage , i doubt that we 'll need to do much , other than to make people aware that the defence is not available in wales in the same way that it is in england , and we might have some light-touch guidance around that . when it comes to the public interest stage , that 's a little more specialist and i think we would need to develop more with respect to that . dawn bowden am: and are you satisfied that your staff in wales—well , and in england , actually , across the border—will be sufficiently aware of the divergence in this area of law ? barry hughes: not as of the present day . give us a chance . [ laughter . ] dawn bowden am: but you would expect that to be something you would— barry hughes: yes , i have no doubt . to an extent , actually , i think i would say that staff in wales are aware of this already , because in my role as chief crown prosecutor , i publish a monthly blog and we talk about the things we 're doing , so staff are aware . i 've discussed with staff and they 've seen my blog and we 've put it on our website : there have been engagements with the welsh government that this is a piece of work in which we 're interested and that is under way . so , actually , i 'm probably being unfair to myself . i think most staff would probably be aware that we are involved in this and that it is something that , at present , may well happen . dawn bowden am: okay . and does that mean that there would also be a similar need for the cps in england to be aware of the changes ? barry hughes: they would need to be aware , but not to the same extent . we have regular interchange of prosecutors between england and wales . so , in my office in cardiff , for example , because we work digitally , i have about 30 to 35 prosecutors who work for the cps in london , and they work exclusively on london cases . but there are times when some of those prosecutors will prosecute at courts in wales , and then there may be an interchange ; they 'll come to work for us on secondment , or they 'll come to work for us permanently . we 'd need to make sure that those people were brought up to speed on the fact that there are some aspects of welsh law that diverge from english law . dawn bowden am: that 's helpful , thank you . my final question , chair , is just whether you think there are any other significant cross-border issues that arise from this potential legislation . barry hughes: in addition to those that i 've mentioned , probably not . it boils down to the fact that there 's a defence in england for assaults upon children that is n't available in wales if this bill goes through , and then it 's dealing with the consequences of that . dawn bowden am: okay . that 's fine . thank you , chair . lynne neagle am: i 've got a supplementary from suzy , and then siân . suzy davies am: thank you . i was going to ask this question later , but i think it fits in— . i 've forgotten what i was going to ask ; this is terrible . oh no , that 's right—obviously , this act is on a particular trajectory at the moment , and it 's due to be introduced before the end of this assembly . do you think it would be better for us as scrutinisers of this act if we could see the draft changes to cps guidance on the public interest test before we make our final decision ? barry hughes: i honestly do n't think that would necessarily be helpful . i 've had some discussions with kwame , who would have an involvement in this . what we would envisage is that we would simply want to take the present public interest factors , which are set out , in my view , very clearly in the code for crown prosecutors , and we would provide a degree of detail around those that relates more specifically to the issues that we 're discussing here . so , it would be taking principles of generality and according them a degree of specificity . and we 'd need to work that up as we go along , and i think you 'd run a risk of putting the cart before the horse , if i may put it like that . suzy davies am: it 's just that , personally , i think the public interest test is critical in all this , and it would really help us to understand what it could look like before we commit to a particular course of action in supporting or not supporting the bill , that was all . but thank you , anyway ; i take your point . lynne neagle am: siân . sian gwenllian am: my point is about the criminal law in wales and england diverging in this particular instance , and we 've been told that this is probably the first time it 's happened . can you think of any other examples where that divergence has happened and does it actually set some kind of precedent in motion ? barry hughes: there are other offences in wales that do n't exist in england , but they do n't crop up very often . so , to give you examples , there is an offence of putting an electronic collar on your pet—let 's not stretch that into children . [ laughter . ] but , you know , sometimes—i 'll be quiet . but putting an electronic collar on your pet that administers a shock is an offence in wales ; it 's not an offence in england . there are also offences around the picking of cockles in west wales , which is not an offence— . so , you can see there are some , but i would argue that the fact that you drive across the border into scotland and commit an offence that you wo n't commit in england is possibly more significant for the general public . of course , the topic we 're discussing here is of real relevance for the general public , and you have heard evidence , i know , already , that comes from people who are quite strongly in favour and people quite strongly against it . one of the ways in which i 've approached this is looking at it from the perspective of what the law is there for , which is to set out , in essence , what is acceptable , what is not acceptable . it does n't necessarily mean we need to use the law for that , but it signifies how society views a certain behaviour . i like to look at it from the perspective of the person who is being affected by this , namely the child , and the change in the law here would afford children a degree of protection that they do n't presently have , but which they do have when they attain the age of 16.footnotelink so , i looked at this— . if i can give you another example . i 've had considerable dealings over the years with offences against residents in care homes , and you 'll have seen winterbourne view , you 'll have seen recently up in durham , where we have adults who need to be looked after because of issues with their mental capacity , and sometimes , the carers become frustrated with them and they admonish them . sometimes they admonish them verbally and then that turns into physical admonishment . in much the same way as children are vulnerable and are looked after and can be sometimes quite annoying—but there is a level of protection for an adult striking a child lightly under the present law that is not available to the same adult for striking that child when they turn 16. that seems to me to not necessarily fit with where we ought to be as a society . sian gwenllian am: do you think that what we 're doing in wales will be emulated in england at some point ? barry hughes: well , it 's certainly going through in parallel in scotland , and there are a great many other countries around the world that already have this , including a large number of european countries . who knows ? trying to get any legislation through westminster at the moment—who knows ? not tomorrow , i 'd say . lynne neagle am: we 've got some specific questions around implementation now from suzy davies . suzy davies am: thank you . can i just begin by asking you to help the committee out here in understanding how the burden of proof is going to work if this defence is removed ? because the issue of whether something is punishment or not is going to disappear , providing that it 's clear that contact with a child has happened . is that going to work on the presumption that that 's an unlawful contact ? is that something the prosecution will still have to prove , or will it be for an accused parent to say , to use your example , ' i was just dragging them out of the traffic or stopping them putting their hands in the fire ' ? barry hughes: i understand your point . there 's no change whatsoever to the burden of proof , nor to the standard of proof . suzy davies am: perhaps you can run us through it quickly . barry hughes: if the defence argue that that act was— . so , we have to show that there 's been an unlawful assault . so , if we remove the defence of reasonable chastisement , in a sense that alters some things but it does n't alter the basic responsibility of the prosecution , which is to establish its case beyond a reasonable doubt . and if the defence raise an argument and say , 'well , look , that was a lawful act ; i was only doing what i thought was reasonable in the circumstances ' , it 's for the crown to disprove that . suzy davies am: okay . that 's great . barry hughes: and we 've got to disprove that to the criminal standard , which is beyond a reasonable doubt . so , you can certainly see— . i can see the potential for individuals who feel strongly about this to look to contest the matter , to not admit any wrongdoing at all and to take the matter to trial , and it would be our responsibility to disprove that . suzy davies am: okay . that 's really helpful for us to understand that . obviously , when we 're talking about cps guidelines and all the rest , we 've already come some distance down the process , have n't we ? have you got any views on what might be done to prevent cases even coming as far as arrest ? because one of the things that we have to consider is that once you 're arrested , that is recorded somewhere and will appear in things like dbs checks in the future , even if it goes no further . do you have any views on how intervention might work better earlier on , even at the point of the knock at the door ? barry hughes: from the perspective of the cps , i 'm not sure i can help you there . suzy davies am: that 's fine . i was expecting that answer . barry hughes: simply because that 's a matter for the police . unlike in many other jurisdictions , we have no power whatsoever to direct the police , so if the police decide not to investigate— . i routinely get letters from members of the public outraged that the police have decided not to investigate their particular neighbour dispute or something , and they want us to do something about it and we ca n't . we ca n't direct the police . suzy davies am: thank you for that , because i thought that was important to get on the record as well . we 're looking at a period of a couple of years after this act passes—if it does—for implementation . is there anything at the moment that you think perhaps you still need to do as an organisation towards being in a position to practically implement this law ? barry hughes: i think we need to maintain the type of dialogue that we 've built up with the welsh government and colleagues there . i think we need to keep abreast of things as they move forward . we need involvement—iwan , for example , and the strategic implementation group . we have other members of my staff who are involved in the other work streams that feed through to that , and i believe that that involvement will ensure that we are sufficiently interconnected ; that we can liaise , in turn , with kwame and his colleagues in the headquarters to respond to things as they develop . so , i think we 've got a network of contacts built up here that is adequate for the purpose—at least , 'adequate ' might sound a little— suzy davies am: sufficient . barry hughes: yes , perfectly sufficient . suzy davies am: so , you 're confident , by 2022 , then , that you 'll have changes to the cps guidelines that are good to go , if you like . barry hughes: fit for purpose , yes . suzy davies am: yes . okay , that 's great . bear with me a second—thank you very much—in your written evidence , you did welcome the indication from the welsh government that this reasonable period after royal assent would be necessary . apart from the cps guideline changes , which you 'll be working through , is there anything else you think you might be needing to do apart from just keeping in touch ? i 'm just thinking : are there any practical and possibly financial implications for your workforce in this ? barry hughes: if this legislation goes through , there will be minor financial consequences for us and i do n't see any significant financial consequences in the period between now and the bill becoming law other than the time of ourselves in discussing this today . but there is n't anything significant . there 's nothing that will impact upon our performance as the public prosecution service in that time . suzy davies am: okay . and what about afterwards , then ? because one of the pieces of thinking behind this act is to collect data to see whether this change in the law actually works . do you want to talk us through a little bit about how that might affect you ? i do n't know who to ask on this . barry hughes: certainly . well , i think that we are going to need to maintain a clear record of any cases that are referred to the cps from the police and that will— . normally , we do this through our case management system , which is england-and-wales wide , and you 'd put a flag on . so , for example , domestic abuse , there 's a flag for that , and assault on a child , there 's a flag for that . but this would be a very specific flag for assault on a child—reasonable chastisement . trying to get that through on a system that covers all of england and wales—it 's quite expensive , unbelievably ; it would n't happen . so , we would keep a manual log of every referral . that would be unmanageable if we were dealing with hundreds and hundreds of cases . suzy davies am: so , you 're not anticipating hundreds and hundreds . barry hughes: not at all . not at all . my take on it : i 've seen and spoken with matt jukes about this , from south wales police ; i have seen the justice impact assessment ; i 've seen the research that 's been fed through from new zealand ; and i 've seen our own response to a freedom of information request and the papers that the cps put into the review that you mentioned earlier in 2007. i would be very surprised if we were to prosecute anything other than low single figures a year , if that much . if that much . we may have more referrals from the police , but i doubt it would be double the figure we prosecute , even . so , you 're talking small numbers . now , small numbers—and we might not have any . okay ? it depends . obviously , if there 's a really good awareness-raising campaign , you make it less likely . and , for us , prosecution—it 's not the first port of call here at all . there are out-of-court disposals and there are all sorts of diversions that you will have discussed , and i know you 've discussed , with the police and the police and crime commissioner . so , the numbers will be very small , which means we would be able to keep a clear track on those and , obviously , we would wish to keep the situation under review , and we 'd reach a period of time after whatever—12 , 18 months , maybe 24 months—where we 'd look back to see how we are doing . and i 'd like to think that we will be doing that in consultation with interested parties and stakeholders . we do this already with certain types of offences . we have what we call local scrutiny involvement panels . so , for offences such as racially aggravated offending , whether it 's criminal damage or offence against the person , we will bring together interested parties , by which i mean people from outside the cps , quite often third sector agencies that represent vulnerable groups . we 'd bring them in and look through the cases . so , we open our books , show them our cases , and we have a very frank discussion . we involve the police in that as well . that , in turn , helps us shape and improve the way that we prosecute these cases and i can foresee that , after this legislation came in , we might get 18 months , two years down the road , and i can see us sitting in a room with some of the cases we 've prosecuted , maybe cases we 've decided not to prosecute , with the police and interested parties from both sides , to have a discussion about how we 're doing with it all . and i 'd like to think that the welsh government would be involved in that as well . suzy davies am: that 's really helpful to know because , of course , one of the difficulties of dealing with the culture change , which is what the minister 's effectively after here , is that we are still talking about it in the context of criminal legislation . it 's nobody 's fault ; that 's just how it is . and what i 'm hearing from you is that the chances of somebody who 's currently protected by the defence and is not part of a bigger case where there 's serial smacking or other difficulties in a family , for example—the chances of them getting to you in the first place are pretty low , and then the chances of them passing even the current public interest tests are pretty low . in which case , my question is : why are we bothering with this law rather than concentrating on a new piece of law , possibly through the civil system , which would achieve the culture change better ? maybe that 's not a question you feel that you can answer , but you can see why i 'm asking the question . barry hughes: i can attempt an answer . i follow entirely where you 're going . i agree , the chances are pretty low , but they 're greater than they are presently . in other words , there is a greater degree of protection for children , and i think the value that would derive from this legislation is the message that it sends out . i go back to what i was saying to you right at the start , about the evolution of the law , and the way we 've seen many other countries around the world adopt a very similar approach to that being proposed by the welsh government is , in my view , an evolution of the law . so , yes , there may not be many more prosecutions , but there wo n't be fewer than there are presently , because there 's a greater degree of protection for children . suzy davies am: okay , that 's really helpful , thank you . lynne neagle am: before we move on , can i just ask— ? the children act 2004 applies to a child up to the age of 18— barry hughes: sixteen . lynne neagle am: you mentioned 16 ; that 's what i wanted to clarify . our understanding was that it went up to 18 . barry hughes: i 'm reasonably confident that it 's 16.footnotelink lynne neagle am: okay . okay , thank you . we 've got some questions now specifically on prosecutions and potential alternatives from vikki howells . vikki howells am: thank you , chair . you 've already touched quite a bit on the issue of the public interest test . is there anything else you 'd like to put on record about the factors that the cps would be taking into consideration when applying the public interest test in respect of this bill ? barry hughes: can i give you an example , which might illustrate the way in which things could be different ? this is one , which—i give credit to iwan for this , because he thought of it . if we take an adult with a small child—say , a four-year-old—in a supermarket , and the child is pulling cans off the shelves , it 's quite annoying , and they keep doing it and keep doing it . the parent remonstrates , and the parent ends up finding that verbal admonishment is inadequate , and smacks the child lightly on the legs , which does the trick and the child stops . presently , if someone in that supermarket were to report that to the police , i think the police would probably conclude that that is covered by the defence of reasonable chastisement . in other words , the evidential stage would n't be passed ; you do n't get on to consider the public interest . but if we have that same parent in there the following week , and you have the same happen again , presently , the defence would apply . now , there comes a point in time when the defence stops applying . if that defence did n't apply at all , and we had a sequence of three offences , the public interest test would kick in , if i may put it like that , pretty quickly , because it would be repeated behaviour . so , that would be the distinction between how things are now and how they would be in the future , because the defence would not be available , so the public interest test would then come to the fore that much more quickly . so , when we apply the public interest test , the essence of it is about proportionality , and trying to come up with an approach that is proportionate to the offending . we look at the age of the offender , the age of the victim , we look at the circumstances , we look at the impact upon the victim , we look at the impact that 's likely in relation to the suspect , and there is , within the code , a long list of matters that we take into account . some of them are fairly obvious , such as previous convictions . if someone 's got previous convictions for doing something wrong , it 's more likely they 're going to be prosecuted the next time . but there 's no part of the law that says that prosecution will always follow . mostly , it 's reasonably obvious ; the more serious an offence , the more likely you are to be prosecuted . vikki howells am: thank you , that 's really useful , and— lynne neagle am: just before you move on , can i ask you a question ? this morning the committee was meeting with groups of parents who are opposed to the bill and groups of parents who are for the bill , and one of the parents this morning was querying where the interests of the child would come into the public interest test . now , i 've looked at the code and there is a section about impact on the victim . can you just clarify for the record how the best interests of the child would be taken into account in considering whether to go forward with a prosecution ? barry hughes: normally , if there were an assault by someone else upon a child , outside the family , we would tend to take views from the parents of that child . in circumstances where both parents , arguably , are the suspects , we probably would n't be asking them . we would find another way , and we would talk with the police to ensure that we are informed about how the child feels about what has happened . it may be that there are— . i can foresee real difficulties in circumstances where we have parents who are separating where the children are being used , effectively , in divorce proceedings , for example , where we might have one parent saying there was a really bad impact upon the child and the other parent saying there was n't . we 'd want to find a way to cut through that to work out really from the police how does the child feel about that . so , we would tailor it to the circumstances of the particular incident to assess how the child feels about it . it 's not determinative , nor is it determinative in cases where we prosecute for adult defendants inflicting some form of assault upon adult victims . it 's not determinative but it is a factor that we take into account . lynne neagle am: okay , thank you . suzy , you 've got a supplementary on that . suzy davies am: yes . in the same session this morning i thought this was an interesting question raised by a parent , on the rights of the child side of things , where if a parent offers a child two forms of punishment because that child has done something that they know they should n't have , and they 're given the option of , 'you can have a quick smack and a cwtch , or you 're going to your bedroom for quarter of an hour ' , and the child is allowed to choose and the child chooses the smack , what happens then ? i 'm not offering any views on the fact that this choice has been given , but it was put to us today about how would that fall in the law once it were changed . barry hughes: that 's a really interesting question . there is a body of law that— suzy davies am: a child ca n't consent to assault . barry hughes: yes , you ca n't consent to a serious assault , apart from in certain— . the law is really quite difficult . so , for example , tattooing is a serious assault on one level , but you can consent to a tattoo . i can think of one case where a man branded his initials on a woman 's buttocks , but she consented to it and the court of appeal held that they could consent to that . i can also think of a series of cases , which i wo n't get into here , that involve sadomasochistic behaviour between adults , some of which was really serious , and involved people willingly applying themselves to things that no sane person would do . and the court of appeal in that case , a case called brown , said , 'no , that 's going too far—you ca n't consent to that . ' then , you may have seen there was a case from the midlands recently where a gentleman operating a tattoo parlour was also involved in body surgery—splitting people 's tongues . that went too far as well . so , there is again—i referred before to the spectrum of offending , and there is a clear spectrum of offending that you can realistically consent to and then you get to offending you ca n't consent to . so , the law has considered that in some depth . i 'm still not entirely clear , and i speak as a lawyer . when it comes to much lesser assaults , the law is more unclear as to what you can consent to . suzy davies am: yes , because we 're talking below a certain standard here as well . okay . barry hughes: as to what you can consent to , it 's less clear . it would need to be developed . suzy davies am: okay , thank you for that . lynne neagle am: thank you . vikki . vikki howells am: thank you . i 've got one further series of questions around out-of-court disposals , which you 've already mentioned briefly . in your written evidence , you say there 's ongoing work exploring diversion rather than prosecution in respect of this bill . firstly , could you tell us a bit more about the work that is being done to explore this as an option ? barry hughes: we 've been working with the national police chiefs ' council . their lead is deputy chief constable sara glen . she is responsible for developing the police approach to out-of-court disposals and simplifying the range of out-of-court disposals . there is quite a range , and life would be simpler and clearer to have fewer types of disposal with more clarity about what each one of them involved . i must say , this is primarily a matter for the police , because there are a great many offences or reports of crime that do not reach the cps because they are dealt with by way of an out-of-court disposal . any case that the police refer to us for a charging decision is going to be something— . there 's a document called the director 's guidance on charging , which is issued by the director of public prosecutions , which sets out offences the police may charge and offences the cps may charge . offences that the police refer to us for a charging decision will generally be offences where they feel that there should be a prosecution rather than an out-of-court disposal . there may be cases where it 's genuinely very difficult to assess what 's the best approach , in which case we will have a conversation with them , a meaningful conversation , about what 's the best way to approach that particular case . there will also be cases , and we see these not that rarely , where the police will bring a case to us for a prosecution on the basis that satisfies the evidential stage and satisfies the public interest stage , and we take a different view on the public interest stage . so , we might say—for example , it involves a 15-year-old youth—we think that diversion from the criminal justice system is a better disposal and we decide not to prosecute . we are n't responsible for administering the out-of-court disposal or indeed monitoring compliance with that disposal , if , for example , it has conditions attached , such as repayment of the damage caused to a window or a front gate . that 's not our responsibility—that will fall to the police—but we can decide that an out-of-court disposal is a more appropriate disposal than a prosecution . does that help ? vikki howells am: it does . one final question on that then : creating a body of out-of-court disposals that are specific to this bill—how would that actually work in practice do you think , given the fact that the assembly 's legislative competence to make provision on the face of the bill is limited ? barry hughes: the way i might see it is that , clearly , policing 's not devolved , the cps is not devolved—the way i might see this is that , within wales , you could build an infrastructure that provides for a range of out-of-court disposals . you ca n't direct the police or the cps to point people towards that , but , if you build a good infrastructure , it 's more likely that people will be pointed in that direction . vikki howells am: and who would build that infrastructure , in your opinion ? barry hughes: somewhere within wales—welsh government , local authorities , the police working in partnership . it may be that the police and crime commissioners use some of their commissioning powers to work something up . i 'm not the right person to answer that question . vikki howells am: okay . thank you , chair . lynne neagle am: thank you . if i could just ask about awareness raising , then : you mentioned the bill in scotland , but that bill includes a duty on the government to raise awareness of the change . there 's no such duty proposed in this bill . do you think that 's right or should this committee be saying that there should be a similar duty imposed in wales ? barry hughes: i 'm not sure it 's for me to say whether there should be a duty or not . i can , however , say that i think the greater the level of awareness , the more likely it is that the act , if passed , will achieve its intentions . lynne neagle am: okay , thank you . and , in your written evidence , you mentioned the fact that there 's no indication of any plans for awareness raising in england and that if a person from england is being prosecuted in wales as a result of this change , a question could arise about the lack of knowledge about the different provisions that apply in wales . can i ask what approach the cps currently takes in wales if a law is unintentionally broken by someone who 's come from outside the uk , for example ? barry hughes: it 's straightforward : if someone comes to this country and commits an offence here—by this country , i 'd say england or wales ; i 'd treat them as one for these purposes—if someone comes from abroad and commits an offence that is n't an offence in their country , but is an offence here , then i 'm afraid that ignorance of the law is no defence . so , raising awareness is important , and i saw , and i was pleased to see , that the media publicity surrounding this proposed legislation , which is now going through , reached as far afield as new york and had widespread media coverage across england and wales , and i think the government would be well placed here to take advantage of that willingness of the media to explore something , which is potentially divisive , and i think you 've probably seen some of that . anything like that is a good story , and a good story gets out there , which means you 're more likely to make people aware of it . lynne neagle am: okay , thank you . we 've got some questions now on the unintended consequences from siân gwenllian . sian gwenllian am: yes , we 've discussed some of these already , but , for example , under the new law , or the proposed law , would one unintended consequence be that , if someone living in wales who ca n't use the reasonable punishment defence—would their life prospects be different compared to those people in england , who will be able to use that defence ? i think you 've mentioned that in your written evidence . barry hughes: yes . okay . a simple answer : if somebody in wales is convicted—so , if it goes towards the end of the spectrum that is serious , which results in a prosecution— . it may be—the sort of circumstance i can see happening here is somebody who takes a principled stand and declines any form of out-of-court disposal and says , 'prosecute me ' . we probably would end up prosecuting , because it 's a relatively serious offence . so , let 's say it comes to court and let 's say they end up being convicted of assaulting their child—in circumstances that would not have happened in england—then they would have a criminal conviction they would n't have in england , and that , inevitably , has an impact upon their life prospects . but i think , along the road there , there would have been an element of choice . sian gwenllian am: okay . and do you think that that would be an isolated incident ? barry hughes: yes , truly , i believe , an isolated incident . i 've said before that i would be very surprised if we even had referrals that reached double figures on these cases . they 're likely to be very limited . when the cps was asked to conduct a survey across all of england and wales—this was the review in 2007—it spanned just over a two-year period , and there were 12 cases that were brought up at that stage . now , i have to say , i do n't think that 's entirely reliable , but it is indicative . we had a freedom of information act request at one stage , which threw up something like three cases in a year . so , if you think about that as being all of england and wales—and we make up about 5 per cent of the volume of criminal prosecutions nationally—you can see why i might say the numbers are likely to be small , for the reasons we 've explored about getting past the evidential stage into the public interest . sian gwenllian am: thank you for that . in terms of thinking about another kind of unintended consequence , in terms of managing performance and all of the targets that the police need to reach , are we perhaps going to see some people going through the criminal justice system in an inappropriate way and contrary to the interests of the child , because we need to reach some target in terms of performance measures ? barry hughes: i have to say i think that extremely unlikely . in the cps , we do n't have targets for securing convictions or not . clearly , we prosecute if we think that there 's a reasonable prospect , a realistic prospect , of conviction and it 's in the public interest , but we have no targets . and i would also say , because the numbers here are likely to be so small , any assertion of looking to meet targets—it 's a tiny , tiny fragment of a drop in the ocean . sian gwenllian am: what about— ? there is a target for unsolved crimes , or unsolved offences . what if they fall into that category ? is that an unintended consequence ? barry hughes: i 'm talking about something i do n't have great knowledge of here . there was , at one stage , a series of targets for the police that bore down upon cases that secure what was called a sanction detection , which counted for home office figures . that disappeared some years ago . some individual constabularies may still have targets , but , as far as i 'm aware , we do n't have a suite of national measures . the police are required to report against this , but we do n't have targets . and , in my experience , the police are much more sensible these days than they may have been 20 years ago , in terms of trying to get cases charged in order to meet some notional target . it 's much less of an issue than it ever was—much . sian gwenllian am: okay . we 've mentioned this , namely the risk of malicious reporting against parents involved in private family law cases . this happens now , of course . is that going to increase if we change the law ? barry hughes: there is greater potential for it to increase . i think the numbers , again , will be tiny , and dwarfed by the number of cases where we have to deal with the fallout between a relationship breakdown between partners—whether they be living within the same house or living in different houses . regrettably , there are times when children are used as part of this ongoing dispute . getting into the subtleties of the father , say , smacking the child in a way that was reasonable chastisement or was not reasonable chastisement is probably part of a much bigger piece here . i can see it potentially arising . it 's not something that would cause me concern , simply because we already have a well-developed approach to dealing with the way in which we evaluate the evidence from parties who may well have a particular position that they want to reinforce , sometimes through exaggeration of basic facts and sometimes through fabrication . sian gwenllian am: are there any other unintended consequences that come to your mind if we introduce this law ? barry hughes: no , i think we 've had a pretty helpful canter through most of the circumstances here that might happen . and i ca n't think of anything else off the top of my head . sian gwenllian am: finally from me , therefore—another issue , in a way—the european convention on human rights . would not introducing the new law mean , at some point , that wales could get itself into difficulty because there is a breach of the human rights convention ? and therefore england as well , at some point . barry hughes: right . how to approach that one ? in the 2007 review to which we 've referred already , the government , the then government , set out its position that it believes that section 58 , in the way that it was drafted , is compliant with the european convention . there are various parties who would disagree with that , but that was the then government 's position . if wales implements this legislation and it becomes part of the law , then , arguably , wales would be more in compliance with echr than not , and england would be less so . but nonetheless , at present , i have n't seen any demurral from the position that was expressed in 2007 , which is that they consider that the position that 's been adopted with section 58 is compliant with the legislation . it may well be tested by case law ; that 's the way it 's likely to happen . some of the changes in this arena were driven by case law—so , that case i referred to , regina v h , which was heard back in 2001 in the court of appeal , was significant in helping shape the direction of travel towards section 58 . sian gwenllian am: and that case law not necessarily would have to happen within the uk—that case law could come from other countries within the european union . barry hughes: it could , but i would be a foolish man if i were to say what impact european jurisprudence might have upon us . [ laughter . ] suzy davies am: [ inaudible . ] —like common law jurisdictions would be . barry hughes: yes . at this point in time , that 'd be a bit of a punt . lynne neagle am: yes . okay . thank you . janet . janet finch-saunders am: yes . suzy 's touched on this mildly , but , in written evidence , you say that you do not consider that the costs of prosecuting cases made possible by the bill will be of great significance to the crown prosecution service , and you 're basing that , from your evidence here today , on the low numbers of prosecutions . so , we 've been asked by individuals , and we 've had consultation responses from individuals , who 've argued that there is no point creating legislation if people are not prosecuted for breaching it . what 's your answer to that ? barry hughes: there is a huge body of legislation out there that outlaws certain offences , and i think probably about— . there are over— . from memory—please never hold me to this—but , from memory , there are something like 10,000 criminal offences ; we probably prosecute 5 per cent of those in any given year . there are some offences on the statute— . i 've been prosecuting for 32 years now ; there are some offences that i 've never come near and probably never will . but , nonetheless , the fact those offences exist sets out in terms what is acceptable and what is not acceptable . so , we have various defences to do with acts . i remember seeing some about antarctic stations and offences that might be committed there . well , they 're not something that we do , but it sets out what 's tolerant—what 's tolerable , sorry , and what is n't . so , the fact that we might not have many prosecutions is , for me , not a reason not to say that we should n't signify that certain behaviour is or is not acceptable . clearly , we do n't wish to criminalise everything—that would be a nonsense—or to attempt to set the boundaries by almost micromanaging what individuals do and do n't do . the criminal law provides a general framework within which to operate , which most people tend to understand . so , awareness is important and it comes back to that point . janet finch-saunders am: thank you . and then the explanatory memorandum says there is a shortage of registered intermediaries who assist child witnesses during police interview and when giving evidence in court . is this a potential barrier to implementing this proposed law , and are there any other potential barriers you want to raise ? barry hughes: no . it 's a potential barrier , but i do n't think it is a barrier . there was a shortage of registered intermediaries in wales , and i know that the ministry of justice have taken action to deal with that , and we have had a number of people who are now in a position to act as intermediaries . now , of course , if they were to decide not to do that anymore , we may have a problem , but , in turn , we would be looking to recruit more people into those positions . so , yes , it has the potential to serve as a barrier , but in practice , i do n't think it would be a barrier . i think , particularly given the very low numbers we 're talking about , we would be able to manage it . i 've got no significant concerns , i have to say . lynne neagle am: thank you . well , we 've come to the end of our time . can i thank you for attending , the three of you , and for your answers , which have been fascinating and very clear and most helpful to the committee ? you will be sent a transcript following the meeting to check for accuracy . thank you again for your time in coming here today . diolch yn fawr . barry hughes: thank you . it 's been a pleasure . lynne neagle am: item 3 , then , is papers to note . paper to note 1 is a letter from me to the business committee requesting an extension on the deadline for the bill , which has now been agreed . paper to note 2 is a letter from myself to the deputy minister for health and social services requesting some further information from cafcass cymru on the bill . paper to note 3 is a letter from myself to the minister for education regarding diamond reform implementation ahead of our scrutiny session on 4 july . are members happy to note those ? item 4 , then . can i propose in accordance with standing order 17.42 that the committee resolves to meet in private for the remainder of the meeting ? are members content ? thank you . </s>\",\n",
       " 'tgt': \"this meeting was the eleventh evidence session on the children abolition of defense of reasonable publishment wales bill . barry hughes was there to answer questions related to the bill . six main topics that had been discussed or explained . the first one was how the bill protected the children in terms of prosecutions . the second part explained the divergence between regions and the bill 's implication on england . the third part explained how the law was implemented , and the fourth talked about prosecutions and potential alternatives . barry hughes then further explained our-of-court disposals and responded to a specific infrastructure for these cases . in the last part , the meeting turned to discuss a number of unintended consequences related to the bill .\"}"
      ]
     },
     "execution_count": 14,
     "metadata": {},
     "output_type": "execute_result"
    }
   ],
   "source": []
  },
  {
   "cell_type": "code",
   "execution_count": null,
   "id": "79e90877",
   "metadata": {},
   "outputs": [],
   "source": []
  }
 ],
 "metadata": {
  "kernelspec": {
   "display_name": "Python 3.9 (Conda 2022.05) [python/3.9-2022.05]",
   "language": "python",
   "name": "python39_202205"
  },
  "language_info": {
   "codemirror_mode": {
    "name": "ipython",
    "version": 3
   },
   "file_extension": ".py",
   "mimetype": "text/x-python",
   "name": "python",
   "nbconvert_exporter": "python",
   "pygments_lexer": "ipython3",
   "version": "3.9.12"
  }
 },
 "nbformat": 4,
 "nbformat_minor": 5
}
